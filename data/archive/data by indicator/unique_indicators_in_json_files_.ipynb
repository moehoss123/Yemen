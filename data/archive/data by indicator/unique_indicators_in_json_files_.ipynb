{
 "cells": [
  {
   "cell_type": "code",
   "execution_count": 1,
   "metadata": {
    "id": "Sr4hqqKa6qF_"
   },
   "outputs": [],
   "source": [
    "import pandas as pd \n",
    "import numpy as np \n",
    "import json "
   ]
  },
  {
   "cell_type": "code",
   "execution_count": 2,
   "metadata": {
    "colab": {
     "base_uri": "https://localhost:8080/"
    },
    "id": "LveLyJpz7AHO",
    "outputId": "67b818d6-d8b7-4ecc-f841-d400258b74f8"
   },
   "outputs": [
    {
     "data": {
      "text/plain": [
       "['Infant mortality rate (per 1,000 livebirths)',\n",
       " 'Under-five mortality rate (per 1,000 livebirths)',\n",
       " 'Refugee population (number)',\n",
       " 'Sex ratio at birth (male birth per female birth)',\n",
       " 'Mean age at first marriage (years)',\n",
       " 'Registered divorces (number)',\n",
       " 'Population distribution by marital status (percentage)',\n",
       " 'International migrant stock (number)',\n",
       " 'Population size (number)',\n",
       " 'Average household size (number)',\n",
       " 'Life expectancy at birth (years)',\n",
       " 'Households headed by women (percent)',\n",
       " 'Population sex ratio (males per 100 females)',\n",
       " 'Registered marriages (number)',\n",
       " 'Registered livebirths (number)',\n",
       " 'Adolescent fertility rate (per 1,000 women aged 15-19 years)',\n",
       " 'Average annual population growth rate (percent)',\n",
       " 'Total fertility rate (children per woman)']"
      ]
     },
     "execution_count": 2,
     "metadata": {},
     "output_type": "execute_result"
    }
   ],
   "source": [
    "import json\n",
    " \n",
    "# Opening JSON file\n",
    "f = open('social_population.json')\n",
    " \n",
    "# returns JSON object as\n",
    "# a dictionary\n",
    "data = json.load(f)\n",
    "data = data['data']\n",
    "\n",
    "# store the data in a dataframe\n",
    "data = pd.DataFrame(data)\n",
    "\n",
    "# store a list of unique indicators\n",
    "unique_indicators = list(data['Indicator Name'].unique())\n",
    "unique_indicators"
   ]
  },
  {
   "cell_type": "code",
   "execution_count": 3,
   "metadata": {
    "colab": {
     "base_uri": "https://localhost:8080/",
     "height": 248
    },
    "id": "zOAmVIUrEzdg",
    "outputId": "3e5f7973-c991-4191-fb30-289e20b99bd7"
   },
   "outputs": [
    {
     "data": {
      "text/html": [
       "<div>\n",
       "<style scoped>\n",
       "    .dataframe tbody tr th:only-of-type {\n",
       "        vertical-align: middle;\n",
       "    }\n",
       "\n",
       "    .dataframe tbody tr th {\n",
       "        vertical-align: top;\n",
       "    }\n",
       "\n",
       "    .dataframe thead th {\n",
       "        text-align: right;\n",
       "    }\n",
       "</style>\n",
       "<table border=\"1\" class=\"dataframe\">\n",
       "  <thead>\n",
       "    <tr style=\"text-align: right;\">\n",
       "      <th></th>\n",
       "      <th>Indicator Name</th>\n",
       "      <th>Country Name</th>\n",
       "      <th>Nationality Name</th>\n",
       "      <th>Area Name</th>\n",
       "      <th>Age Name</th>\n",
       "      <th>Sex Name</th>\n",
       "      <th>Causes of death Name</th>\n",
       "      <th>Marital status Name</th>\n",
       "      <th>Scale Name</th>\n",
       "      <th>Source</th>\n",
       "      <th>Time</th>\n",
       "      <th>Value</th>\n",
       "    </tr>\n",
       "  </thead>\n",
       "  <tbody>\n",
       "    <tr>\n",
       "      <th>0</th>\n",
       "      <td>Infant mortality rate (per 1,000 livebirths)</td>\n",
       "      <td>Jordan</td>\n",
       "      <td>Nationality Total</td>\n",
       "      <td>Area Total</td>\n",
       "      <td>Age not available</td>\n",
       "      <td>Both sexes</td>\n",
       "      <td>Causes of death NA</td>\n",
       "      <td>Marital status NA</td>\n",
       "      <td>Units</td>\n",
       "      <td>National</td>\n",
       "      <td>2000</td>\n",
       "      <td>31.3</td>\n",
       "    </tr>\n",
       "    <tr>\n",
       "      <th>1</th>\n",
       "      <td>Infant mortality rate (per 1,000 livebirths)</td>\n",
       "      <td>Jordan</td>\n",
       "      <td>Nationality Total</td>\n",
       "      <td>Area Total</td>\n",
       "      <td>Age not available</td>\n",
       "      <td>Both sexes</td>\n",
       "      <td>Causes of death NA</td>\n",
       "      <td>Marital status NA</td>\n",
       "      <td>Units</td>\n",
       "      <td>National</td>\n",
       "      <td>2001</td>\n",
       "      <td>33</td>\n",
       "    </tr>\n",
       "    <tr>\n",
       "      <th>2</th>\n",
       "      <td>Infant mortality rate (per 1,000 livebirths)</td>\n",
       "      <td>Jordan</td>\n",
       "      <td>Nationality Total</td>\n",
       "      <td>Area Total</td>\n",
       "      <td>Age not available</td>\n",
       "      <td>Both sexes</td>\n",
       "      <td>Causes of death NA</td>\n",
       "      <td>Marital status NA</td>\n",
       "      <td>Units</td>\n",
       "      <td>National</td>\n",
       "      <td>2002</td>\n",
       "      <td>24</td>\n",
       "    </tr>\n",
       "    <tr>\n",
       "      <th>3</th>\n",
       "      <td>Infant mortality rate (per 1,000 livebirths)</td>\n",
       "      <td>Jordan</td>\n",
       "      <td>Nationality Total</td>\n",
       "      <td>Area Total</td>\n",
       "      <td>Age not available</td>\n",
       "      <td>Both sexes</td>\n",
       "      <td>Causes of death NA</td>\n",
       "      <td>Marital status NA</td>\n",
       "      <td>Units</td>\n",
       "      <td>National</td>\n",
       "      <td>2003</td>\n",
       "      <td>22</td>\n",
       "    </tr>\n",
       "    <tr>\n",
       "      <th>4</th>\n",
       "      <td>Infant mortality rate (per 1,000 livebirths)</td>\n",
       "      <td>Jordan</td>\n",
       "      <td>Nationality Total</td>\n",
       "      <td>Area Total</td>\n",
       "      <td>Age not available</td>\n",
       "      <td>Both sexes</td>\n",
       "      <td>Causes of death NA</td>\n",
       "      <td>Marital status NA</td>\n",
       "      <td>Units</td>\n",
       "      <td>National</td>\n",
       "      <td>2004</td>\n",
       "      <td>24</td>\n",
       "    </tr>\n",
       "  </tbody>\n",
       "</table>\n",
       "</div>"
      ],
      "text/plain": [
       "                                 Indicator Name Country Name  \\\n",
       "0  Infant mortality rate (per 1,000 livebirths)       Jordan   \n",
       "1  Infant mortality rate (per 1,000 livebirths)       Jordan   \n",
       "2  Infant mortality rate (per 1,000 livebirths)       Jordan   \n",
       "3  Infant mortality rate (per 1,000 livebirths)       Jordan   \n",
       "4  Infant mortality rate (per 1,000 livebirths)       Jordan   \n",
       "\n",
       "    Nationality Name   Area Name           Age Name    Sex Name  \\\n",
       "0  Nationality Total  Area Total  Age not available  Both sexes   \n",
       "1  Nationality Total  Area Total  Age not available  Both sexes   \n",
       "2  Nationality Total  Area Total  Age not available  Both sexes   \n",
       "3  Nationality Total  Area Total  Age not available  Both sexes   \n",
       "4  Nationality Total  Area Total  Age not available  Both sexes   \n",
       "\n",
       "  Causes of death Name Marital status Name Scale Name    Source  Time Value  \n",
       "0   Causes of death NA   Marital status NA      Units  National  2000  31.3  \n",
       "1   Causes of death NA   Marital status NA      Units  National  2001    33  \n",
       "2   Causes of death NA   Marital status NA      Units  National  2002    24  \n",
       "3   Causes of death NA   Marital status NA      Units  National  2003    22  \n",
       "4   Causes of death NA   Marital status NA      Units  National  2004    24  "
      ]
     },
     "execution_count": 3,
     "metadata": {},
     "output_type": "execute_result"
    }
   ],
   "source": [
    "data.head()"
   ]
  },
  {
   "cell_type": "code",
   "execution_count": 4,
   "metadata": {
    "colab": {
     "base_uri": "https://localhost:8080/",
     "height": 248
    },
    "id": "wSFeZ3rUGw_e",
    "outputId": "383cbc16-a661-4986-fef2-f9caa284a8b2"
   },
   "outputs": [
    {
     "data": {
      "text/html": [
       "<div>\n",
       "<style scoped>\n",
       "    .dataframe tbody tr th:only-of-type {\n",
       "        vertical-align: middle;\n",
       "    }\n",
       "\n",
       "    .dataframe tbody tr th {\n",
       "        vertical-align: top;\n",
       "    }\n",
       "\n",
       "    .dataframe thead th {\n",
       "        text-align: right;\n",
       "    }\n",
       "</style>\n",
       "<table border=\"1\" class=\"dataframe\">\n",
       "  <thead>\n",
       "    <tr style=\"text-align: right;\">\n",
       "      <th></th>\n",
       "      <th>Indicator Name</th>\n",
       "      <th>Country Name</th>\n",
       "      <th>Nationality Name</th>\n",
       "      <th>Area Name</th>\n",
       "      <th>Age Name</th>\n",
       "      <th>Sex Name</th>\n",
       "      <th>Causes of death Name</th>\n",
       "      <th>Marital status Name</th>\n",
       "      <th>Scale Name</th>\n",
       "      <th>Source</th>\n",
       "      <th>Time</th>\n",
       "      <th>Value</th>\n",
       "    </tr>\n",
       "  </thead>\n",
       "  <tbody>\n",
       "    <tr>\n",
       "      <th>996</th>\n",
       "      <td>Total fertility rate (children per woman)</td>\n",
       "      <td>Jordan</td>\n",
       "      <td>Nationality Total</td>\n",
       "      <td>Area Total</td>\n",
       "      <td>Age not available</td>\n",
       "      <td>Sex NA</td>\n",
       "      <td>Causes of death NA</td>\n",
       "      <td>Marital status NA</td>\n",
       "      <td>Units</td>\n",
       "      <td>National</td>\n",
       "      <td>2000</td>\n",
       "      <td>3.5</td>\n",
       "    </tr>\n",
       "    <tr>\n",
       "      <th>997</th>\n",
       "      <td>Total fertility rate (children per woman)</td>\n",
       "      <td>Jordan</td>\n",
       "      <td>Nationality Total</td>\n",
       "      <td>Area Total</td>\n",
       "      <td>Age not available</td>\n",
       "      <td>Sex NA</td>\n",
       "      <td>Causes of death NA</td>\n",
       "      <td>Marital status NA</td>\n",
       "      <td>Units</td>\n",
       "      <td>National</td>\n",
       "      <td>2001</td>\n",
       "      <td>3.5</td>\n",
       "    </tr>\n",
       "    <tr>\n",
       "      <th>998</th>\n",
       "      <td>Total fertility rate (children per woman)</td>\n",
       "      <td>Jordan</td>\n",
       "      <td>Nationality Total</td>\n",
       "      <td>Area Total</td>\n",
       "      <td>Age not available</td>\n",
       "      <td>Sex NA</td>\n",
       "      <td>Causes of death NA</td>\n",
       "      <td>Marital status NA</td>\n",
       "      <td>Units</td>\n",
       "      <td>National</td>\n",
       "      <td>2002</td>\n",
       "      <td>3.7</td>\n",
       "    </tr>\n",
       "    <tr>\n",
       "      <th>999</th>\n",
       "      <td>Total fertility rate (children per woman)</td>\n",
       "      <td>Jordan</td>\n",
       "      <td>Nationality Total</td>\n",
       "      <td>Area Total</td>\n",
       "      <td>Age not available</td>\n",
       "      <td>Sex NA</td>\n",
       "      <td>Causes of death NA</td>\n",
       "      <td>Marital status NA</td>\n",
       "      <td>Units</td>\n",
       "      <td>National</td>\n",
       "      <td>2003</td>\n",
       "      <td>3.7</td>\n",
       "    </tr>\n",
       "    <tr>\n",
       "      <th>1000</th>\n",
       "      <td>Total fertility rate (children per woman)</td>\n",
       "      <td>Jordan</td>\n",
       "      <td>Nationality Total</td>\n",
       "      <td>Area Total</td>\n",
       "      <td>Age not available</td>\n",
       "      <td>Sex NA</td>\n",
       "      <td>Causes of death NA</td>\n",
       "      <td>Marital status NA</td>\n",
       "      <td>Units</td>\n",
       "      <td>National</td>\n",
       "      <td>2004</td>\n",
       "      <td>3.7</td>\n",
       "    </tr>\n",
       "  </tbody>\n",
       "</table>\n",
       "</div>"
      ],
      "text/plain": [
       "                                 Indicator Name Country Name  \\\n",
       "996   Total fertility rate (children per woman)       Jordan   \n",
       "997   Total fertility rate (children per woman)       Jordan   \n",
       "998   Total fertility rate (children per woman)       Jordan   \n",
       "999   Total fertility rate (children per woman)       Jordan   \n",
       "1000  Total fertility rate (children per woman)       Jordan   \n",
       "\n",
       "       Nationality Name   Area Name           Age Name Sex Name  \\\n",
       "996   Nationality Total  Area Total  Age not available   Sex NA   \n",
       "997   Nationality Total  Area Total  Age not available   Sex NA   \n",
       "998   Nationality Total  Area Total  Age not available   Sex NA   \n",
       "999   Nationality Total  Area Total  Age not available   Sex NA   \n",
       "1000  Nationality Total  Area Total  Age not available   Sex NA   \n",
       "\n",
       "     Causes of death Name Marital status Name Scale Name    Source  Time Value  \n",
       "996    Causes of death NA   Marital status NA      Units  National  2000   3.5  \n",
       "997    Causes of death NA   Marital status NA      Units  National  2001   3.5  \n",
       "998    Causes of death NA   Marital status NA      Units  National  2002   3.7  \n",
       "999    Causes of death NA   Marital status NA      Units  National  2003   3.7  \n",
       "1000   Causes of death NA   Marital status NA      Units  National  2004   3.7  "
      ]
     },
     "execution_count": 4,
     "metadata": {},
     "output_type": "execute_result"
    }
   ],
   "source": [
    "# Create a dictionary of dataframes for each unique indicator \n",
    "df_dict = {name: data.loc[data['Indicator Name'] == name] for name in unique_indicators}\n",
    "\n",
    "df_dict['Total fertility rate (children per woman)'].head()"
   ]
  },
  {
   "cell_type": "code",
   "execution_count": 5,
   "metadata": {
    "colab": {
     "base_uri": "https://localhost:8080/"
    },
    "id": "CnSczvt8H8UU",
    "outputId": "7c2a6845-df3a-4eb9-e68f-98c706643fb5"
   },
   "outputs": [
    {
     "data": {
      "text/plain": [
       "pandas.core.frame.DataFrame"
      ]
     },
     "execution_count": 5,
     "metadata": {},
     "output_type": "execute_result"
    }
   ],
   "source": [
    "type(df_dict['Total fertility rate (children per woman)'])"
   ]
  },
  {
   "cell_type": "code",
   "execution_count": 12,
   "metadata": {
    "id": "43BYX8SYJZhq"
   },
   "outputs": [],
   "source": [
    "for indicator in unique_indicators: \n",
    "  df_dict[indicator].to_json(str(indicator)+'.json', orient='records')"
   ]
  },
  {
   "cell_type": "code",
   "execution_count": null,
   "metadata": {
    "id": "53twofAsnc9i"
   },
   "outputs": [],
   "source": []
  }
 ],
 "metadata": {
  "colab": {
   "name": "unique_indicators in json files .ipynb",
   "provenance": []
  },
  "kernelspec": {
   "display_name": "Python 3",
   "language": "python",
   "name": "python3"
  },
  "language_info": {
   "codemirror_mode": {
    "name": "ipython",
    "version": 3
   },
   "file_extension": ".py",
   "mimetype": "text/x-python",
   "name": "python",
   "nbconvert_exporter": "python",
   "pygments_lexer": "ipython3",
   "version": "3.8.5"
  }
 },
 "nbformat": 4,
 "nbformat_minor": 1
}
